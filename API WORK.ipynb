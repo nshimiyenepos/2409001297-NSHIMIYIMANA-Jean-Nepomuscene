{
  "nbformat": 4,
  "nbformat_minor": 0,
  "metadata": {
    "colab": {
      "provenance": [],
      "authorship_tag": "ABX9TyPc7Fl1+m8bk21+vt+q3ksF",
      "include_colab_link": true
    },
    "kernelspec": {
      "name": "python3",
      "display_name": "Python 3"
    },
    "language_info": {
      "name": "python"
    }
  },
  "cells": [
    {
      "cell_type": "markdown",
      "metadata": {
        "id": "view-in-github",
        "colab_type": "text"
      },
      "source": [
        "<a href=\"https://colab.research.google.com/github/nshimiyenepos/2409001297-NSHIMIYIMANA-Jean-Nepomuscene/blob/main/API%20WORK.ipynb\" target=\"_parent\"><img src=\"https://colab.research.google.com/assets/colab-badge.svg\" alt=\"Open In Colab\"/></a>"
      ]
    },
    {
      "cell_type": "code",
      "execution_count": 11,
      "metadata": {
        "id": "kSB-9R07QU16"
      },
      "outputs": [],
      "source": [
        "import requests\n",
        "import json\n"
      ]
    },
    {
      "cell_type": "markdown",
      "source": [
        "!pip3 install requests"
      ],
      "metadata": {
        "id": "NmffWF75Q8FQ"
      }
    },
    {
      "cell_type": "markdown",
      "source": [],
      "metadata": {
        "id": "1N-leE9TRfhx"
      }
    },
    {
      "cell_type": "code",
      "source": [
        "!pip3 install requests"
      ],
      "metadata": {
        "colab": {
          "base_uri": "https://localhost:8080/"
        },
        "id": "E_xKY0GbRKc0",
        "outputId": "d8897db5-bd81-4372-b2f2-891501932513"
      },
      "execution_count": 12,
      "outputs": [
        {
          "output_type": "stream",
          "name": "stdout",
          "text": [
            "Requirement already satisfied: requests in /usr/local/lib/python3.11/dist-packages (2.32.3)\n",
            "Requirement already satisfied: charset-normalizer<4,>=2 in /usr/local/lib/python3.11/dist-packages (from requests) (3.4.2)\n",
            "Requirement already satisfied: idna<4,>=2.5 in /usr/local/lib/python3.11/dist-packages (from requests) (3.10)\n",
            "Requirement already satisfied: urllib3<3,>=1.21.1 in /usr/local/lib/python3.11/dist-packages (from requests) (2.4.0)\n",
            "Requirement already satisfied: certifi>=2017.4.17 in /usr/local/lib/python3.11/dist-packages (from requests) (2025.7.9)\n"
          ]
        }
      ]
    },
    {
      "cell_type": "code",
      "source": [
        "result = response = requests.get('https://api.stackexchange.com/2.3/questions?order=desc&sort=activity&site=stackoverflow')\n",
        "\n",
        "print(result)"
      ],
      "metadata": {
        "colab": {
          "base_uri": "https://localhost:8080/"
        },
        "id": "B9-smxTmSrmq",
        "outputId": "1efad4fb-b09b-4deb-fb19-f69de451dbc8"
      },
      "execution_count": 13,
      "outputs": [
        {
          "output_type": "stream",
          "name": "stdout",
          "text": [
            "<Response [200]>\n"
          ]
        }
      ]
    },
    {
      "cell_type": "code",
      "source": [
        "print(result.json())"
      ],
      "metadata": {
        "colab": {
          "base_uri": "https://localhost:8080/"
        },
        "id": "Kc1CwhCbS0PO",
        "outputId": "76eb7e65-9f4c-41db-df5e-7b7bcad09418"
      },
      "execution_count": 14,
      "outputs": [
        {
          "output_type": "stream",
          "name": "stdout",
          "text": [
            "{'items': [{'tags': ['spring', 'spring-security', 'checkmarx', 'secure-coding', 'checkmark'], 'owner': {'account_id': 3605417, 'reputation': 1121, 'user_id': 3007690, 'user_type': 'registered', 'accept_rate': 64, 'profile_image': 'https://i.sstatic.net/0rsC3.jpg?s=256', 'display_name': 'kandarp', 'link': 'https://stackoverflow.com/users/3007690/kandarp'}, 'is_answered': False, 'view_count': 8580, 'answer_count': 1, 'score': 1, 'last_activity_date': 1752318240, 'creation_date': 1613920833, 'last_edit_date': 1614769558, 'question_id': 66303835, 'content_license': 'CC BY-SA 4.0', 'link': 'https://stackoverflow.com/questions/66303835/checkmarx-unsafe-object-binding', 'title': 'Checkmarx: Unsafe object binding'}, {'tags': ['html', 'image', 'directory', 'notepad'], 'owner': {'account_id': 18512608, 'reputation': 1, 'user_id': 13487448, 'user_type': 'registered', 'profile_image': 'https://www.gravatar.com/avatar/b89b0849eb60704223e7dc7aadf74be4?s=256&d=identicon&r=PG&f=y&so-version=2', 'display_name': 'Infinity868', 'link': 'https://stackoverflow.com/users/13487448/infinity868'}, 'is_answered': False, 'view_count': 25596, 'answer_count': 2, 'score': 0, 'last_activity_date': 1752318240, 'creation_date': 1588818716, 'question_id': 61648863, 'content_license': 'CC BY-SA 4.0', 'link': 'https://stackoverflow.com/questions/61648863/how-do-i-add-multiple-pages-to-my-html-website-in-notepad', 'title': 'How do I add multiple pages to my html website in notepad?'}, {'tags': ['java', 'json', 'hibernate', 'jpa', 'spring-data'], 'owner': {'account_id': 324759, 'reputation': 1667, 'user_id': 645536, 'user_type': 'registered', 'accept_rate': 50, 'profile_image': 'https://www.gravatar.com/avatar/dccba6feed6b02e32391e34559fedb25?s=256&d=identicon&r=PG&f=y&so-version=2', 'display_name': 'anirus', 'link': 'https://stackoverflow.com/users/645536/anirus'}, 'is_answered': False, 'view_count': 10021, 'answer_count': 3, 'score': 4, 'last_activity_date': 1752318240, 'creation_date': 1490412390, 'last_edit_date': 1490450513, 'question_id': 43012174, 'content_license': 'CC BY-SA 3.0', 'link': 'https://stackoverflow.com/questions/43012174/save-entity-object-with-foreign-key-using-crudrepository', 'title': 'Save entity object with foreign key using CrudRepository'}, {'tags': ['spring-boot', 'openldap', 'spring-ldap'], 'owner': {'account_id': 2411615, 'reputation': 1043, 'user_id': 2106556, 'user_type': 'registered', 'accept_rate': 75, 'profile_image': 'https://www.gravatar.com/avatar/b307a460f2175c919dcf7841cd26a442?s=256&d=identicon&r=PG', 'display_name': 'wmfairuz', 'link': 'https://stackoverflow.com/users/2106556/wmfairuz'}, 'is_answered': False, 'view_count': 9847, 'answer_count': 1, 'score': 1, 'last_activity_date': 1752318240, 'creation_date': 1450781077, 'question_id': 34413972, 'content_license': 'CC BY-SA 3.0', 'link': 'https://stackoverflow.com/questions/34413972/invocation-of-init-method-failed-nested-exception-is-java-lang-abstractmethoder', 'title': 'Invocation of init method failed; nested exception is java.lang.AbstractMethodError'}, {'tags': ['python', 'android', 'ios', 'kotlin', 'android-studio'], 'owner': {'account_id': 42991274, 'reputation': 1, 'user_id': 31021893, 'user_type': 'registered', 'profile_image': 'https://www.gravatar.com/avatar/5ba67075dc12bfe70195ea4e6c428ac8?s=256&d=identicon&r=PG&f=y&so-version=2', 'display_name': 'Rayyan Shaik', 'link': 'https://stackoverflow.com/users/31021893/rayyan-shaik'}, 'is_answered': False, 'view_count': 5, 'answer_count': 0, 'score': 0, 'last_activity_date': 1752318143, 'creation_date': 1752318143, 'question_id': 79699216, 'content_license': 'CC BY-SA 4.0', 'link': 'https://stackoverflow.com/questions/79699216/beginner-trying-to-build-a-mobile-app-from-scratch-what-tools-language-and-f', 'title': 'Beginner Trying to Build a Mobile App from Scratch — What Tools, Language, and Frameworks Should I Use in 2025?'}, {'tags': ['reactjs', 'tailwind-css', 'postcss'], 'owner': {'account_id': 29733727, 'reputation': 1, 'user_id': 22787754, 'user_type': 'registered', 'profile_image': 'https://www.gravatar.com/avatar/49a8ae995f6640858cefd58155cc8248?s=256&d=identicon&r=PG&f=y&so-version=2', 'display_name': 'DrRangoo', 'link': 'https://stackoverflow.com/users/22787754/drrangoo'}, 'is_answered': False, 'view_count': 2, 'answer_count': 0, 'score': 0, 'last_activity_date': 1752318123, 'creation_date': 1752318123, 'question_id': 79699215, 'content_license': 'CC BY-SA 4.0', 'link': 'https://stackoverflow.com/questions/79699215/add-font-in-tailwind-vite-project', 'title': 'Add Font in Tailwind (Vite Project)'}, {'tags': ['node.js', 'npm', 'gitlab'], 'owner': {'account_id': 1157423, 'reputation': 40815, 'user_id': 1137669, 'user_type': 'registered', 'accept_rate': 54, 'profile_image': 'https://www.gravatar.com/avatar/cc61a5c8f5866597519087e6bdaa240c?s=256&d=identicon&r=PG', 'display_name': 'basickarl', 'link': 'https://stackoverflow.com/users/1137669/basickarl'}, 'is_answered': True, 'view_count': 157357, 'protected_date': 1734465777, 'answer_count': 9, 'score': 58, 'last_activity_date': 1752318042, 'creation_date': 1518772992, 'question_id': 48823562, 'content_license': 'CC BY-SA 3.0', 'link': 'https://stackoverflow.com/questions/48823562/npm-install-resulting-in-401-unauthorized-for-private-repo', 'title': 'NPM install resulting in 401 Unauthorized for private repo'}, {'tags': ['eclipse', 'maven', 'lifecycle'], 'owner': {'account_id': 1029918, 'reputation': 1472, 'user_id': 1038447, 'user_type': 'registered', 'accept_rate': 31, 'profile_image': 'https://www.gravatar.com/avatar/2b2c8669d88a7265252b6ede2f0ec677?s=256&d=identicon&r=PG', 'display_name': '&#193;rp&#225;d Magos&#225;nyi', 'link': 'https://stackoverflow.com/users/1038447/%c3%81rp%c3%a1d-magos%c3%a1nyi'}, 'is_answered': False, 'view_count': 6, 'answer_count': 0, 'score': 0, 'last_activity_date': 1752318030, 'creation_date': 1752318030, 'question_id': 79699213, 'content_license': 'CC BY-SA 4.0', 'link': 'https://stackoverflow.com/questions/79699213/how-to-ignore-a-maven-goal-in-eclipse-buid', 'title': 'how to ignore a maven goal in eclipse buid?'}, {'tags': ['php', 'arrays', 'foreach', 'mysqli'], 'owner': {'account_id': 3742690, 'reputation': 504, 'user_id': 3112128, 'user_type': 'registered', 'accept_rate': 65, 'profile_image': 'https://i.sstatic.net/ep58c.jpg?s=256', 'display_name': 'Arbiter', 'link': 'https://stackoverflow.com/users/3112128/arbiter'}, 'is_answered': False, 'view_count': 142, 'answer_count': 0, 'score': 0, 'last_activity_date': 1752317974, 'creation_date': 1396549855, 'last_edit_date': 1752317974, 'question_id': 22845994, 'content_license': 'CC BY-SA 4.0', 'link': 'https://stackoverflow.com/questions/22845994/creating-user-groups-in-php-using-multi-select-dropdown', 'title': 'Creating User Groups in PHP (Using multi-select dropdown)'}, {'tags': ['vuejs2', 'vuex', 'vuetify.js'], 'owner': {'account_id': 18847749, 'reputation': 41, 'user_id': 13747578, 'user_type': 'registered', 'profile_image': 'https://www.gravatar.com/avatar/fa96376d30b064282ffda3f9a7a968a3?s=256&d=identicon&r=PG&f=y&so-version=2', 'display_name': 'Jeffrey Bentley', 'link': 'https://stackoverflow.com/users/13747578/jeffrey-bentley'}, 'is_answered': False, 'view_count': 580, 'answer_count': 1, 'score': -2, 'last_activity_date': 1752317850, 'creation_date': 1592199788, 'question_id': 62382010, 'content_license': 'CC BY-SA 4.0', 'link': 'https://stackoverflow.com/questions/62382010/what-is-the-best-practice-for-creating-a-dialog-for-each-card-item-without-an-ac', 'title': 'What is the best practice for creating a dialog for each card-item without an activator using Vue, Vuex, and Vuetify'}, {'tags': ['powerquery', 'ranking', 'duration'], 'owner': {'account_id': 3348524, 'reputation': 1, 'user_id': 2813118, 'user_type': 'registered', 'profile_image': 'https://www.gravatar.com/avatar/ad6e4e4bb003d282076b46c77e6c6d35?s=256&d=identicon&r=PG&f=y&so-version=2', 'display_name': 'Khorne049', 'link': 'https://stackoverflow.com/users/2813118/khorne049'}, 'is_answered': False, 'view_count': 21, 'answer_count': 2, 'score': 0, 'last_activity_date': 1752317840, 'creation_date': 1752254456, 'question_id': 79698671, 'content_license': 'CC BY-SA 4.0', 'link': 'https://stackoverflow.com/questions/79698671/text-to-duration-in-excel-power-query', 'title': 'Text to Duration in Excel Power Query'}, {'tags': ['c++', 'c++14', 'variadic-templates'], 'owner': {'account_id': 8649447, 'reputation': 2348, 'user_id': 6475652, 'user_type': 'registered', 'accept_rate': 39, 'profile_image': 'https://www.gravatar.com/avatar/fd8c9dafd45a46dba708e637811556e7?s=256&d=identicon&r=PG&f=y&so-version=2', 'display_name': 'vazlsky', 'link': 'https://stackoverflow.com/users/6475652/vazlsky'}, 'is_answered': False, 'view_count': 20, 'answer_count': 0, 'score': 0, 'last_activity_date': 1752317814, 'creation_date': 1752316229, 'last_edit_date': 1752317814, 'question_id': 79699195, 'content_license': 'CC BY-SA 4.0', 'link': 'https://stackoverflow.com/questions/79699195/dynamic-list-of-arguments-for-a-variadic-function', 'title': 'Dynamic list of arguments for a variadic function'}, {'tags': ['list', 'cmake', 'macros', 'set', 'expansion'], 'owner': {'account_id': 12684651, 'reputation': 657, 'user_id': 9216943, 'user_type': 'registered', 'profile_image': 'https://lh6.googleusercontent.com/-Vq8ii5GQCKw/AAAAAAAAAAI/AAAAAAAAAU4/Q-nW6SPnbc4/s256-rj/photo.jpg', 'display_name': 'Zach ', 'link': 'https://stackoverflow.com/users/9216943/zach'}, 'is_answered': False, 'view_count': 31, 'closed_date': 1752174531, 'answer_count': 0, 'score': 0, 'last_activity_date': 1752317809, 'creation_date': 1751932622, 'last_edit_date': 1752317809, 'question_id': 79693529, 'link': 'https://stackoverflow.com/questions/79693529/why-does-this-cmake-list-variable-expansion-not-behave-as-expected', 'closed_reason': 'Not suitable for this site', 'title': 'Why does this CMake list variable expansion not behave as expected?'}, {'tags': ['spring-boot', 'kotlin', 'discord', 'spring-oauth2'], 'owner': {'account_id': 1314915, 'reputation': 8039, 'user_id': 1262024, 'user_type': 'registered', 'accept_rate': 88, 'profile_image': 'https://i.sstatic.net/zKgL8.jpg?s=256', 'display_name': 'Smajl', 'link': 'https://stackoverflow.com/users/1262024/smajl'}, 'is_answered': False, 'view_count': 39, 'answer_count': 0, 'score': 0, 'last_activity_date': 1752317785, 'creation_date': 1752146492, 'last_edit_date': 1752317785, 'question_id': 79696979, 'content_license': 'CC BY-SA 4.0', 'link': 'https://stackoverflow.com/questions/79696979/no-user-context-present-after-finishing-oauth2-flow', 'title': 'No user context present after finishing Oauth2 flow'}, {'tags': ['c#', 'web-applications', 'asp.net-core-webapi', '.net-8.0'], 'owner': {'account_id': 84265, 'reputation': 19052, 'user_id': 235671, 'user_type': 'registered', 'accept_rate': 81, 'profile_image': 'https://i.sstatic.net/xKXSM.png?s=256', 'display_name': 't3chb0t', 'link': 'https://stackoverflow.com/users/235671/t3chb0t'}, 'is_answered': False, 'view_count': 21, 'answer_count': 0, 'score': 0, 'last_activity_date': 1752317685, 'creation_date': 1752311910, 'last_edit_date': 1752317685, 'question_id': 79699143, 'content_license': 'CC BY-SA 4.0', 'link': 'https://stackoverflow.com/questions/79699143/refactoring-minimal-web-application-pattern-into-classic-full-program-cs-with-ma', 'title': 'Refactoring minimal web application pattern into classic full Program.cs with main'}, {'tags': ['regex'], 'owner': {'account_id': 42858342, 'reputation': 11, 'user_id': 30958296, 'user_type': 'registered', 'profile_image': 'https://www.gravatar.com/avatar/97296c050d1aac29100bb806d6d5d8e7?s=256&d=identicon&r=PG&f=y&so-version=2', 'display_name': 'John Simon', 'link': 'https://stackoverflow.com/users/30958296/john-simon'}, 'is_answered': False, 'view_count': 61, 'answer_count': 1, 'score': 1, 'last_activity_date': 1752317632, 'creation_date': 1752305358, 'last_edit_date': 1752313540, 'question_id': 79699098, 'content_license': 'CC BY-SA 4.0', 'link': 'https://stackoverflow.com/questions/79699098/a-regex-expression-that-excludes-a-phrase', 'title': 'A Regex expression that excludes a phrase'}, {'tags': ['python', 'automated-tests', 'pytest'], 'owner': {'account_id': 5939645, 'reputation': 396, 'user_id': 4996797, 'user_type': 'registered', 'profile_image': 'https://www.gravatar.com/avatar/e16f6a5f42cdb40b91c2682d00a8a968?s=256&d=identicon&r=PG&f=y&so-version=2', 'display_name': 'Paweł W&#243;jcik', 'link': 'https://stackoverflow.com/users/4996797/pawe%c5%82-w%c3%b3jcik'}, 'is_answered': False, 'view_count': 31, 'answer_count': 1, 'score': 0, 'last_activity_date': 1752317534, 'creation_date': 1752261734, 'question_id': 79698757, 'content_license': 'CC BY-SA 4.0', 'link': 'https://stackoverflow.com/questions/79698757/pytest-fixture-saved-into-a-pickle', 'title': 'Pytest fixture saved into a pickle'}, {'tags': ['html', 'autocomplete', 'dropdown'], 'owner': {'account_id': 42996092, 'reputation': 1, 'user_id': 31024050, 'user_type': 'registered', 'profile_image': 'https://www.gravatar.com/avatar/2d590ea3725540371f1deff0358ac936?s=256&d=identicon&r=PG&f=y&so-version=2', 'display_name': 'David H.', 'link': 'https://stackoverflow.com/users/31024050/david-h'}, 'is_answered': False, 'view_count': 18, 'answer_count': 0, 'score': 0, 'last_activity_date': 1752317403, 'creation_date': 1752315261, 'last_edit_date': 1752317403, 'question_id': 79699186, 'content_license': 'CC BY-SA 4.0', 'link': 'https://stackoverflow.com/questions/79699186/how-to-link-the-autocomplete-dropdown-item-to-a-subsection-of-same-page-without', 'title': 'How to link the Autocomplete dropdown item to a subsection of same page without displaying full url name'}, {'tags': ['javascript', 'reactjs', 'components'], 'owner': {'account_id': 34374199, 'reputation': 11, 'user_id': 26535772, 'user_type': 'registered', 'profile_image': 'https://www.gravatar.com/avatar/2bf503c25a99c36927066a0fd6468bc7?s=256&d=identicon&r=PG&f=y&so-version=2', 'display_name': 'asfreeman18', 'link': 'https://stackoverflow.com/users/26535772/asfreeman18'}, 'is_answered': True, 'view_count': 100, 'answer_count': 2, 'score': -2, 'last_activity_date': 1752317339, 'creation_date': 1750488836, 'last_edit_date': 1752095654, 'question_id': 79674218, 'content_license': 'CC BY-SA 4.0', 'link': 'https://stackoverflow.com/questions/79674218/how-to-prevent-filtered-component-from-re-rendering-over-and-over', 'title': 'How to prevent filtered component from re-rendering over and over?'}, {'tags': ['python', 'unit-testing'], 'owner': {'account_id': 15346643, 'reputation': 432, 'user_id': 11071831, 'user_type': 'registered', 'profile_image': 'https://i.sstatic.net/Z7Doc.png?s=256', 'display_name': 'Charizard_knows_to_code', 'link': 'https://stackoverflow.com/users/11071831/charizard-knows-to-code'}, 'is_answered': True, 'view_count': 35, 'accepted_answer_id': 79699116, 'answer_count': 2, 'score': 0, 'last_activity_date': 1752317290, 'creation_date': 1752305170, 'last_edit_date': 1752305552, 'question_id': 79699094, 'content_license': 'CC BY-SA 4.0', 'link': 'https://stackoverflow.com/questions/79699094/testing-equality-of-lists-which-contain-nan', 'title': 'Testing equality of lists which contain NaN'}, {'tags': ['kubernetes', 'harbor'], 'owner': {'account_id': 21860345, 'reputation': 171, 'user_id': 16151219, 'user_type': 'registered', 'profile_image': 'https://lh3.googleusercontent.com/a/AATXAJzKe2jnFNMc3fmFBRL1-_jgJjHzcFQxOLxVriZ0=k-s256', 'display_name': 'maantarng', 'link': 'https://stackoverflow.com/users/16151219/maantarng'}, 'is_answered': False, 'view_count': 7076, 'answer_count': 2, 'score': 1, 'last_activity_date': 1752317212, 'creation_date': 1657098968, 'last_edit_date': 1657100689, 'question_id': 72880842, 'content_license': 'CC BY-SA 4.0', 'link': 'https://stackoverflow.com/questions/72880842/pulling-image-from-private-container-registry-harbor-in-kubernetes', 'title': 'Pulling image from private container registry (Harbor) in Kubernetes'}, {'tags': ['javascript', 'async-await', 'svelte', 'sveltekit'], 'owner': {'account_id': 6288428, 'reputation': 217, 'user_id': 5780526, 'user_type': 'registered', 'accept_rate': 75, 'profile_image': 'https://www.gravatar.com/avatar/28edeafbfb58850f9aae609f3b8b221c?s=256&d=identicon&r=PG&f=y&so-version=2', 'display_name': 'TheCommoner282', 'link': 'https://stackoverflow.com/users/5780526/thecommoner282'}, 'is_answered': False, 'view_count': 16, 'answer_count': 0, 'score': 0, 'last_activity_date': 1752317144, 'creation_date': 1752317144, 'question_id': 79699207, 'content_license': 'CC BY-SA 4.0', 'link': 'https://stackoverflow.com/questions/79699207/why-not-call-a-fetch-function-eagerly-when-it-is-not-even-awaited', 'title': 'Why not call a fetch function eagerly when it is not even awaited'}, {'tags': ['android', 'animation', 'android-jetpack-compose', 'android-jetpack-compose-material3', 'jetpack-compose-animation'], 'owner': {'account_id': 19046110, 'reputation': 327, 'user_id': 27535495, 'user_type': 'registered', 'profile_image': 'https://lh3.googleusercontent.com/a-/AOh14GiB0dhWRKJG_2D8m8gfD_P_JVt_8-18b0labj6z=k-s256', 'display_name': 'Danfb__', 'link': 'https://stackoverflow.com/users/27535495/danfb'}, 'is_answered': False, 'view_count': 11, 'answer_count': 0, 'score': 0, 'last_activity_date': 1752317063, 'creation_date': 1752317063, 'question_id': 79699206, 'content_license': 'CC BY-SA 4.0', 'link': 'https://stackoverflow.com/questions/79699206/animatedcontent-size-change-animation-not-working-smoothly-in-jetpack-compose-di', 'title': 'AnimatedContent size change animation not working smoothly in Jetpack Compose dialog'}, {'tags': ['windows', 'powershell', 'powershell-remoting'], 'owner': {'account_id': 7796812, 'reputation': 6719, 'user_id': 5897602, 'user_type': 'registered', 'accept_rate': 92, 'profile_image': 'https://i.sstatic.net/WZb8m.jpg?s=256', 'display_name': 'Jaquarh', 'link': 'https://stackoverflow.com/users/5897602/jaquarh'}, 'is_answered': True, 'view_count': 1915, 'accepted_answer_id': 68523099, 'answer_count': 2, 'score': 1, 'last_activity_date': 1752317024, 'creation_date': 1627253626, 'question_id': 68523062, 'content_license': 'CC BY-SA 4.0', 'link': 'https://stackoverflow.com/questions/68523062/how-to-use-powershell-to-download-and-pipe-to-execution-with-arguments', 'title': 'How to use Powershell to download and pipe to execution with arguments'}, {'tags': ['python'], 'owner': {'account_id': 22494287, 'reputation': 1, 'user_id': 16691563, 'user_type': 'registered', 'profile_image': 'https://www.gravatar.com/avatar/b822fb2be1ba9cb8ece1133724af7dd2?s=256&d=identicon&r=PG&f=y&so-version=2', 'display_name': 'Eman9821', 'link': 'https://stackoverflow.com/users/16691563/eman9821'}, 'is_answered': True, 'view_count': 566, 'answer_count': 2, 'score': -2, 'last_activity_date': 1752317012, 'creation_date': 1638294992, 'question_id': 70173981, 'content_license': 'CC BY-SA 4.0', 'link': 'https://stackoverflow.com/questions/70173981/using-shutil-move-how-do-i-move-the-file-to-destination-folder-and-keep-the-f', 'title': 'Using shutil.move(), how do i move the file to destination folder and keep the file in the source folder at the same time'}, {'tags': ['python', 'visual-studio-code', 'windows-10', 'modulenotfounderror'], 'owner': {'account_id': 17092580, 'reputation': 301, 'user_id': 12368358, 'user_type': 'registered', 'profile_image': 'https://www.gravatar.com/avatar/905078b8b4765c34783b1d657a8cc810?s=256&d=identicon&r=PG&f=y&so-version=2', 'display_name': 'z.ghane', 'link': 'https://stackoverflow.com/users/12368358/z-ghane'}, 'is_answered': True, 'view_count': 1499, 'accepted_answer_id': 67188904, 'answer_count': 4, 'score': 0, 'last_activity_date': 1752316998, 'creation_date': 1618913412, 'last_edit_date': 1619018216, 'question_id': 67176837, 'content_license': 'CC BY-SA 4.0', 'link': 'https://stackoverflow.com/questions/67176837/can-we-create-a-venv-for-python-and-use-that-venv-in-other-folders-in-vscode-wi', 'title': 'Can we create a venv for python and use that venv in other folders in VSCode, Windows 10?'}, {'tags': ['php', 'arrays', 'codeigniter', 'multidimensional-array', 'query-builder'], 'owner': {'account_id': 3786865, 'reputation': 599, 'user_id': 3144542, 'user_type': 'registered', 'accept_rate': 55, 'profile_image': 'https://www.gravatar.com/avatar/c5498c3096522b82c4fbacb13e2d431d?s=256&d=identicon&r=PG&f=y&so-version=2', 'display_name': 'user3144542', 'link': 'https://stackoverflow.com/users/3144542/user3144542'}, 'is_answered': True, 'view_count': 437, 'closed_date': 1752316981, 'answer_count': 1, 'score': -1, 'last_activity_date': 1752316976, 'creation_date': 1388439707, 'last_edit_date': 1752316976, 'question_id': 20848022, 'link': 'https://stackoverflow.com/questions/20848022/using-where-in-with-a-multi-dimensional-array', 'closed_reason': 'Needs details or clarity', 'title': 'Using where_in() with a multi-dimensional array'}, {'tags': ['swift'], 'owner': {'account_id': 2767219, 'reputation': 305, 'user_id': 2385053, 'user_type': 'registered', 'profile_image': 'https://www.gravatar.com/avatar/67c55d458729b35938fef4d00b63f7d2?s=256&d=identicon&r=PG', 'display_name': 'user49354', 'link': 'https://stackoverflow.com/users/2385053/user49354'}, 'is_answered': True, 'view_count': 3392, 'accepted_answer_id': 39348310, 'answer_count': 5, 'score': 7, 'last_activity_date': 1752316939, 'creation_date': 1473142880, 'last_edit_date': 1473162118, 'question_id': 39341864, 'content_license': 'CC BY-SA 3.0', 'link': 'https://stackoverflow.com/questions/39341864/how-to-pass-variadic-parameter-in-swift', 'title': 'How to pass variadic parameter in swift?'}, {'tags': ['android', 'kotlin', 'android-custom-view'], 'owner': {'account_id': 18398630, 'reputation': 65, 'user_id': 13402326, 'user_type': 'registered', 'profile_image': 'https://lh3.googleusercontent.com/a-/AOh14GhwhIPZISfgvbBhFC-NpFgZdA70vALXy4a3ZPTU=k-s256', 'display_name': 'YOUSEF -ELSAYED', 'link': 'https://stackoverflow.com/users/13402326/yousef-elsayed'}, 'is_answered': False, 'view_count': 1235, 'answer_count': 1, 'score': 2, 'last_activity_date': 1752316875, 'creation_date': 1682318931, 'last_edit_date': 1682362639, 'question_id': 76089224, 'content_license': 'CC BY-SA 4.0', 'link': 'https://stackoverflow.com/questions/76089224/video-editor-timeline-view-android', 'title': 'Video Editor Timeline View android'}, {'tags': ['c#', 'mysql', '.net-core', 'entity-framework-core'], 'owner': {'account_id': 37951322, 'reputation': 71, 'user_id': 28516124, 'user_type': 'registered', 'profile_image': 'https://www.gravatar.com/avatar/011796ff082562d6b7d3df6f27e4e33a?s=256&d=identicon&r=PG&f=y&so-version=2', 'display_name': 'Kafkaa', 'link': 'https://stackoverflow.com/users/28516124/kafkaa'}, 'is_answered': False, 'view_count': 48, 'answer_count': 0, 'score': 1, 'last_activity_date': 1752316847, 'creation_date': 1752263895, 'last_edit_date': 1752316847, 'question_id': 79698780, 'content_license': 'CC BY-SA 4.0', 'link': 'https://stackoverflow.com/questions/79698780/how-to-keep-history-of-entities-using-table-per-type-inheritance-in-ef-core-with', 'title': 'How to keep history of entities using Table-per-Type inheritance in EF Core with Mysql'}], 'has_more': True, 'quota_max': 300, 'quota_remaining': 298}\n"
          ]
        }
      ]
    },
    {
      "cell_type": "code",
      "source": [
        "print(result.json()['items'])"
      ],
      "metadata": {
        "colab": {
          "base_uri": "https://localhost:8080/"
        },
        "id": "R5r2dPMSTwWG",
        "outputId": "7af29f3d-aaba-4aca-81cb-c43ae974be1a"
      },
      "execution_count": 18,
      "outputs": [
        {
          "output_type": "stream",
          "name": "stdout",
          "text": [
            "[{'tags': ['spring', 'spring-security', 'checkmarx', 'secure-coding', 'checkmark'], 'owner': {'account_id': 3605417, 'reputation': 1121, 'user_id': 3007690, 'user_type': 'registered', 'accept_rate': 64, 'profile_image': 'https://i.sstatic.net/0rsC3.jpg?s=256', 'display_name': 'kandarp', 'link': 'https://stackoverflow.com/users/3007690/kandarp'}, 'is_answered': False, 'view_count': 8580, 'answer_count': 1, 'score': 1, 'last_activity_date': 1752318240, 'creation_date': 1613920833, 'last_edit_date': 1614769558, 'question_id': 66303835, 'content_license': 'CC BY-SA 4.0', 'link': 'https://stackoverflow.com/questions/66303835/checkmarx-unsafe-object-binding', 'title': 'Checkmarx: Unsafe object binding'}, {'tags': ['html', 'image', 'directory', 'notepad'], 'owner': {'account_id': 18512608, 'reputation': 1, 'user_id': 13487448, 'user_type': 'registered', 'profile_image': 'https://www.gravatar.com/avatar/b89b0849eb60704223e7dc7aadf74be4?s=256&d=identicon&r=PG&f=y&so-version=2', 'display_name': 'Infinity868', 'link': 'https://stackoverflow.com/users/13487448/infinity868'}, 'is_answered': False, 'view_count': 25596, 'answer_count': 2, 'score': 0, 'last_activity_date': 1752318240, 'creation_date': 1588818716, 'question_id': 61648863, 'content_license': 'CC BY-SA 4.0', 'link': 'https://stackoverflow.com/questions/61648863/how-do-i-add-multiple-pages-to-my-html-website-in-notepad', 'title': 'How do I add multiple pages to my html website in notepad?'}, {'tags': ['java', 'json', 'hibernate', 'jpa', 'spring-data'], 'owner': {'account_id': 324759, 'reputation': 1667, 'user_id': 645536, 'user_type': 'registered', 'accept_rate': 50, 'profile_image': 'https://www.gravatar.com/avatar/dccba6feed6b02e32391e34559fedb25?s=256&d=identicon&r=PG&f=y&so-version=2', 'display_name': 'anirus', 'link': 'https://stackoverflow.com/users/645536/anirus'}, 'is_answered': False, 'view_count': 10021, 'answer_count': 3, 'score': 4, 'last_activity_date': 1752318240, 'creation_date': 1490412390, 'last_edit_date': 1490450513, 'question_id': 43012174, 'content_license': 'CC BY-SA 3.0', 'link': 'https://stackoverflow.com/questions/43012174/save-entity-object-with-foreign-key-using-crudrepository', 'title': 'Save entity object with foreign key using CrudRepository'}, {'tags': ['spring-boot', 'openldap', 'spring-ldap'], 'owner': {'account_id': 2411615, 'reputation': 1043, 'user_id': 2106556, 'user_type': 'registered', 'accept_rate': 75, 'profile_image': 'https://www.gravatar.com/avatar/b307a460f2175c919dcf7841cd26a442?s=256&d=identicon&r=PG', 'display_name': 'wmfairuz', 'link': 'https://stackoverflow.com/users/2106556/wmfairuz'}, 'is_answered': False, 'view_count': 9847, 'answer_count': 1, 'score': 1, 'last_activity_date': 1752318240, 'creation_date': 1450781077, 'question_id': 34413972, 'content_license': 'CC BY-SA 3.0', 'link': 'https://stackoverflow.com/questions/34413972/invocation-of-init-method-failed-nested-exception-is-java-lang-abstractmethoder', 'title': 'Invocation of init method failed; nested exception is java.lang.AbstractMethodError'}, {'tags': ['python', 'android', 'ios', 'kotlin', 'android-studio'], 'owner': {'account_id': 42991274, 'reputation': 1, 'user_id': 31021893, 'user_type': 'registered', 'profile_image': 'https://www.gravatar.com/avatar/5ba67075dc12bfe70195ea4e6c428ac8?s=256&d=identicon&r=PG&f=y&so-version=2', 'display_name': 'Rayyan Shaik', 'link': 'https://stackoverflow.com/users/31021893/rayyan-shaik'}, 'is_answered': False, 'view_count': 5, 'answer_count': 0, 'score': 0, 'last_activity_date': 1752318143, 'creation_date': 1752318143, 'question_id': 79699216, 'content_license': 'CC BY-SA 4.0', 'link': 'https://stackoverflow.com/questions/79699216/beginner-trying-to-build-a-mobile-app-from-scratch-what-tools-language-and-f', 'title': 'Beginner Trying to Build a Mobile App from Scratch — What Tools, Language, and Frameworks Should I Use in 2025?'}, {'tags': ['reactjs', 'tailwind-css', 'postcss'], 'owner': {'account_id': 29733727, 'reputation': 1, 'user_id': 22787754, 'user_type': 'registered', 'profile_image': 'https://www.gravatar.com/avatar/49a8ae995f6640858cefd58155cc8248?s=256&d=identicon&r=PG&f=y&so-version=2', 'display_name': 'DrRangoo', 'link': 'https://stackoverflow.com/users/22787754/drrangoo'}, 'is_answered': False, 'view_count': 2, 'answer_count': 0, 'score': 0, 'last_activity_date': 1752318123, 'creation_date': 1752318123, 'question_id': 79699215, 'content_license': 'CC BY-SA 4.0', 'link': 'https://stackoverflow.com/questions/79699215/add-font-in-tailwind-vite-project', 'title': 'Add Font in Tailwind (Vite Project)'}, {'tags': ['node.js', 'npm', 'gitlab'], 'owner': {'account_id': 1157423, 'reputation': 40815, 'user_id': 1137669, 'user_type': 'registered', 'accept_rate': 54, 'profile_image': 'https://www.gravatar.com/avatar/cc61a5c8f5866597519087e6bdaa240c?s=256&d=identicon&r=PG', 'display_name': 'basickarl', 'link': 'https://stackoverflow.com/users/1137669/basickarl'}, 'is_answered': True, 'view_count': 157357, 'protected_date': 1734465777, 'answer_count': 9, 'score': 58, 'last_activity_date': 1752318042, 'creation_date': 1518772992, 'question_id': 48823562, 'content_license': 'CC BY-SA 3.0', 'link': 'https://stackoverflow.com/questions/48823562/npm-install-resulting-in-401-unauthorized-for-private-repo', 'title': 'NPM install resulting in 401 Unauthorized for private repo'}, {'tags': ['eclipse', 'maven', 'lifecycle'], 'owner': {'account_id': 1029918, 'reputation': 1472, 'user_id': 1038447, 'user_type': 'registered', 'accept_rate': 31, 'profile_image': 'https://www.gravatar.com/avatar/2b2c8669d88a7265252b6ede2f0ec677?s=256&d=identicon&r=PG', 'display_name': '&#193;rp&#225;d Magos&#225;nyi', 'link': 'https://stackoverflow.com/users/1038447/%c3%81rp%c3%a1d-magos%c3%a1nyi'}, 'is_answered': False, 'view_count': 6, 'answer_count': 0, 'score': 0, 'last_activity_date': 1752318030, 'creation_date': 1752318030, 'question_id': 79699213, 'content_license': 'CC BY-SA 4.0', 'link': 'https://stackoverflow.com/questions/79699213/how-to-ignore-a-maven-goal-in-eclipse-buid', 'title': 'how to ignore a maven goal in eclipse buid?'}, {'tags': ['php', 'arrays', 'foreach', 'mysqli'], 'owner': {'account_id': 3742690, 'reputation': 504, 'user_id': 3112128, 'user_type': 'registered', 'accept_rate': 65, 'profile_image': 'https://i.sstatic.net/ep58c.jpg?s=256', 'display_name': 'Arbiter', 'link': 'https://stackoverflow.com/users/3112128/arbiter'}, 'is_answered': False, 'view_count': 142, 'answer_count': 0, 'score': 0, 'last_activity_date': 1752317974, 'creation_date': 1396549855, 'last_edit_date': 1752317974, 'question_id': 22845994, 'content_license': 'CC BY-SA 4.0', 'link': 'https://stackoverflow.com/questions/22845994/creating-user-groups-in-php-using-multi-select-dropdown', 'title': 'Creating User Groups in PHP (Using multi-select dropdown)'}, {'tags': ['vuejs2', 'vuex', 'vuetify.js'], 'owner': {'account_id': 18847749, 'reputation': 41, 'user_id': 13747578, 'user_type': 'registered', 'profile_image': 'https://www.gravatar.com/avatar/fa96376d30b064282ffda3f9a7a968a3?s=256&d=identicon&r=PG&f=y&so-version=2', 'display_name': 'Jeffrey Bentley', 'link': 'https://stackoverflow.com/users/13747578/jeffrey-bentley'}, 'is_answered': False, 'view_count': 580, 'answer_count': 1, 'score': -2, 'last_activity_date': 1752317850, 'creation_date': 1592199788, 'question_id': 62382010, 'content_license': 'CC BY-SA 4.0', 'link': 'https://stackoverflow.com/questions/62382010/what-is-the-best-practice-for-creating-a-dialog-for-each-card-item-without-an-ac', 'title': 'What is the best practice for creating a dialog for each card-item without an activator using Vue, Vuex, and Vuetify'}, {'tags': ['powerquery', 'ranking', 'duration'], 'owner': {'account_id': 3348524, 'reputation': 1, 'user_id': 2813118, 'user_type': 'registered', 'profile_image': 'https://www.gravatar.com/avatar/ad6e4e4bb003d282076b46c77e6c6d35?s=256&d=identicon&r=PG&f=y&so-version=2', 'display_name': 'Khorne049', 'link': 'https://stackoverflow.com/users/2813118/khorne049'}, 'is_answered': False, 'view_count': 21, 'answer_count': 2, 'score': 0, 'last_activity_date': 1752317840, 'creation_date': 1752254456, 'question_id': 79698671, 'content_license': 'CC BY-SA 4.0', 'link': 'https://stackoverflow.com/questions/79698671/text-to-duration-in-excel-power-query', 'title': 'Text to Duration in Excel Power Query'}, {'tags': ['c++', 'c++14', 'variadic-templates'], 'owner': {'account_id': 8649447, 'reputation': 2348, 'user_id': 6475652, 'user_type': 'registered', 'accept_rate': 39, 'profile_image': 'https://www.gravatar.com/avatar/fd8c9dafd45a46dba708e637811556e7?s=256&d=identicon&r=PG&f=y&so-version=2', 'display_name': 'vazlsky', 'link': 'https://stackoverflow.com/users/6475652/vazlsky'}, 'is_answered': False, 'view_count': 20, 'answer_count': 0, 'score': 0, 'last_activity_date': 1752317814, 'creation_date': 1752316229, 'last_edit_date': 1752317814, 'question_id': 79699195, 'content_license': 'CC BY-SA 4.0', 'link': 'https://stackoverflow.com/questions/79699195/dynamic-list-of-arguments-for-a-variadic-function', 'title': 'Dynamic list of arguments for a variadic function'}, {'tags': ['list', 'cmake', 'macros', 'set', 'expansion'], 'owner': {'account_id': 12684651, 'reputation': 657, 'user_id': 9216943, 'user_type': 'registered', 'profile_image': 'https://lh6.googleusercontent.com/-Vq8ii5GQCKw/AAAAAAAAAAI/AAAAAAAAAU4/Q-nW6SPnbc4/s256-rj/photo.jpg', 'display_name': 'Zach ', 'link': 'https://stackoverflow.com/users/9216943/zach'}, 'is_answered': False, 'view_count': 31, 'closed_date': 1752174531, 'answer_count': 0, 'score': 0, 'last_activity_date': 1752317809, 'creation_date': 1751932622, 'last_edit_date': 1752317809, 'question_id': 79693529, 'link': 'https://stackoverflow.com/questions/79693529/why-does-this-cmake-list-variable-expansion-not-behave-as-expected', 'closed_reason': 'Not suitable for this site', 'title': 'Why does this CMake list variable expansion not behave as expected?'}, {'tags': ['spring-boot', 'kotlin', 'discord', 'spring-oauth2'], 'owner': {'account_id': 1314915, 'reputation': 8039, 'user_id': 1262024, 'user_type': 'registered', 'accept_rate': 88, 'profile_image': 'https://i.sstatic.net/zKgL8.jpg?s=256', 'display_name': 'Smajl', 'link': 'https://stackoverflow.com/users/1262024/smajl'}, 'is_answered': False, 'view_count': 39, 'answer_count': 0, 'score': 0, 'last_activity_date': 1752317785, 'creation_date': 1752146492, 'last_edit_date': 1752317785, 'question_id': 79696979, 'content_license': 'CC BY-SA 4.0', 'link': 'https://stackoverflow.com/questions/79696979/no-user-context-present-after-finishing-oauth2-flow', 'title': 'No user context present after finishing Oauth2 flow'}, {'tags': ['c#', 'web-applications', 'asp.net-core-webapi', '.net-8.0'], 'owner': {'account_id': 84265, 'reputation': 19052, 'user_id': 235671, 'user_type': 'registered', 'accept_rate': 81, 'profile_image': 'https://i.sstatic.net/xKXSM.png?s=256', 'display_name': 't3chb0t', 'link': 'https://stackoverflow.com/users/235671/t3chb0t'}, 'is_answered': False, 'view_count': 21, 'answer_count': 0, 'score': 0, 'last_activity_date': 1752317685, 'creation_date': 1752311910, 'last_edit_date': 1752317685, 'question_id': 79699143, 'content_license': 'CC BY-SA 4.0', 'link': 'https://stackoverflow.com/questions/79699143/refactoring-minimal-web-application-pattern-into-classic-full-program-cs-with-ma', 'title': 'Refactoring minimal web application pattern into classic full Program.cs with main'}, {'tags': ['regex'], 'owner': {'account_id': 42858342, 'reputation': 11, 'user_id': 30958296, 'user_type': 'registered', 'profile_image': 'https://www.gravatar.com/avatar/97296c050d1aac29100bb806d6d5d8e7?s=256&d=identicon&r=PG&f=y&so-version=2', 'display_name': 'John Simon', 'link': 'https://stackoverflow.com/users/30958296/john-simon'}, 'is_answered': False, 'view_count': 61, 'answer_count': 1, 'score': 1, 'last_activity_date': 1752317632, 'creation_date': 1752305358, 'last_edit_date': 1752313540, 'question_id': 79699098, 'content_license': 'CC BY-SA 4.0', 'link': 'https://stackoverflow.com/questions/79699098/a-regex-expression-that-excludes-a-phrase', 'title': 'A Regex expression that excludes a phrase'}, {'tags': ['python', 'automated-tests', 'pytest'], 'owner': {'account_id': 5939645, 'reputation': 396, 'user_id': 4996797, 'user_type': 'registered', 'profile_image': 'https://www.gravatar.com/avatar/e16f6a5f42cdb40b91c2682d00a8a968?s=256&d=identicon&r=PG&f=y&so-version=2', 'display_name': 'Paweł W&#243;jcik', 'link': 'https://stackoverflow.com/users/4996797/pawe%c5%82-w%c3%b3jcik'}, 'is_answered': False, 'view_count': 31, 'answer_count': 1, 'score': 0, 'last_activity_date': 1752317534, 'creation_date': 1752261734, 'question_id': 79698757, 'content_license': 'CC BY-SA 4.0', 'link': 'https://stackoverflow.com/questions/79698757/pytest-fixture-saved-into-a-pickle', 'title': 'Pytest fixture saved into a pickle'}, {'tags': ['html', 'autocomplete', 'dropdown'], 'owner': {'account_id': 42996092, 'reputation': 1, 'user_id': 31024050, 'user_type': 'registered', 'profile_image': 'https://www.gravatar.com/avatar/2d590ea3725540371f1deff0358ac936?s=256&d=identicon&r=PG&f=y&so-version=2', 'display_name': 'David H.', 'link': 'https://stackoverflow.com/users/31024050/david-h'}, 'is_answered': False, 'view_count': 18, 'answer_count': 0, 'score': 0, 'last_activity_date': 1752317403, 'creation_date': 1752315261, 'last_edit_date': 1752317403, 'question_id': 79699186, 'content_license': 'CC BY-SA 4.0', 'link': 'https://stackoverflow.com/questions/79699186/how-to-link-the-autocomplete-dropdown-item-to-a-subsection-of-same-page-without', 'title': 'How to link the Autocomplete dropdown item to a subsection of same page without displaying full url name'}, {'tags': ['javascript', 'reactjs', 'components'], 'owner': {'account_id': 34374199, 'reputation': 11, 'user_id': 26535772, 'user_type': 'registered', 'profile_image': 'https://www.gravatar.com/avatar/2bf503c25a99c36927066a0fd6468bc7?s=256&d=identicon&r=PG&f=y&so-version=2', 'display_name': 'asfreeman18', 'link': 'https://stackoverflow.com/users/26535772/asfreeman18'}, 'is_answered': True, 'view_count': 100, 'answer_count': 2, 'score': -2, 'last_activity_date': 1752317339, 'creation_date': 1750488836, 'last_edit_date': 1752095654, 'question_id': 79674218, 'content_license': 'CC BY-SA 4.0', 'link': 'https://stackoverflow.com/questions/79674218/how-to-prevent-filtered-component-from-re-rendering-over-and-over', 'title': 'How to prevent filtered component from re-rendering over and over?'}, {'tags': ['python', 'unit-testing'], 'owner': {'account_id': 15346643, 'reputation': 432, 'user_id': 11071831, 'user_type': 'registered', 'profile_image': 'https://i.sstatic.net/Z7Doc.png?s=256', 'display_name': 'Charizard_knows_to_code', 'link': 'https://stackoverflow.com/users/11071831/charizard-knows-to-code'}, 'is_answered': True, 'view_count': 35, 'accepted_answer_id': 79699116, 'answer_count': 2, 'score': 0, 'last_activity_date': 1752317290, 'creation_date': 1752305170, 'last_edit_date': 1752305552, 'question_id': 79699094, 'content_license': 'CC BY-SA 4.0', 'link': 'https://stackoverflow.com/questions/79699094/testing-equality-of-lists-which-contain-nan', 'title': 'Testing equality of lists which contain NaN'}, {'tags': ['kubernetes', 'harbor'], 'owner': {'account_id': 21860345, 'reputation': 171, 'user_id': 16151219, 'user_type': 'registered', 'profile_image': 'https://lh3.googleusercontent.com/a/AATXAJzKe2jnFNMc3fmFBRL1-_jgJjHzcFQxOLxVriZ0=k-s256', 'display_name': 'maantarng', 'link': 'https://stackoverflow.com/users/16151219/maantarng'}, 'is_answered': False, 'view_count': 7076, 'answer_count': 2, 'score': 1, 'last_activity_date': 1752317212, 'creation_date': 1657098968, 'last_edit_date': 1657100689, 'question_id': 72880842, 'content_license': 'CC BY-SA 4.0', 'link': 'https://stackoverflow.com/questions/72880842/pulling-image-from-private-container-registry-harbor-in-kubernetes', 'title': 'Pulling image from private container registry (Harbor) in Kubernetes'}, {'tags': ['javascript', 'async-await', 'svelte', 'sveltekit'], 'owner': {'account_id': 6288428, 'reputation': 217, 'user_id': 5780526, 'user_type': 'registered', 'accept_rate': 75, 'profile_image': 'https://www.gravatar.com/avatar/28edeafbfb58850f9aae609f3b8b221c?s=256&d=identicon&r=PG&f=y&so-version=2', 'display_name': 'TheCommoner282', 'link': 'https://stackoverflow.com/users/5780526/thecommoner282'}, 'is_answered': False, 'view_count': 16, 'answer_count': 0, 'score': 0, 'last_activity_date': 1752317144, 'creation_date': 1752317144, 'question_id': 79699207, 'content_license': 'CC BY-SA 4.0', 'link': 'https://stackoverflow.com/questions/79699207/why-not-call-a-fetch-function-eagerly-when-it-is-not-even-awaited', 'title': 'Why not call a fetch function eagerly when it is not even awaited'}, {'tags': ['android', 'animation', 'android-jetpack-compose', 'android-jetpack-compose-material3', 'jetpack-compose-animation'], 'owner': {'account_id': 19046110, 'reputation': 327, 'user_id': 27535495, 'user_type': 'registered', 'profile_image': 'https://lh3.googleusercontent.com/a-/AOh14GiB0dhWRKJG_2D8m8gfD_P_JVt_8-18b0labj6z=k-s256', 'display_name': 'Danfb__', 'link': 'https://stackoverflow.com/users/27535495/danfb'}, 'is_answered': False, 'view_count': 11, 'answer_count': 0, 'score': 0, 'last_activity_date': 1752317063, 'creation_date': 1752317063, 'question_id': 79699206, 'content_license': 'CC BY-SA 4.0', 'link': 'https://stackoverflow.com/questions/79699206/animatedcontent-size-change-animation-not-working-smoothly-in-jetpack-compose-di', 'title': 'AnimatedContent size change animation not working smoothly in Jetpack Compose dialog'}, {'tags': ['windows', 'powershell', 'powershell-remoting'], 'owner': {'account_id': 7796812, 'reputation': 6719, 'user_id': 5897602, 'user_type': 'registered', 'accept_rate': 92, 'profile_image': 'https://i.sstatic.net/WZb8m.jpg?s=256', 'display_name': 'Jaquarh', 'link': 'https://stackoverflow.com/users/5897602/jaquarh'}, 'is_answered': True, 'view_count': 1915, 'accepted_answer_id': 68523099, 'answer_count': 2, 'score': 1, 'last_activity_date': 1752317024, 'creation_date': 1627253626, 'question_id': 68523062, 'content_license': 'CC BY-SA 4.0', 'link': 'https://stackoverflow.com/questions/68523062/how-to-use-powershell-to-download-and-pipe-to-execution-with-arguments', 'title': 'How to use Powershell to download and pipe to execution with arguments'}, {'tags': ['python'], 'owner': {'account_id': 22494287, 'reputation': 1, 'user_id': 16691563, 'user_type': 'registered', 'profile_image': 'https://www.gravatar.com/avatar/b822fb2be1ba9cb8ece1133724af7dd2?s=256&d=identicon&r=PG&f=y&so-version=2', 'display_name': 'Eman9821', 'link': 'https://stackoverflow.com/users/16691563/eman9821'}, 'is_answered': True, 'view_count': 566, 'answer_count': 2, 'score': -2, 'last_activity_date': 1752317012, 'creation_date': 1638294992, 'question_id': 70173981, 'content_license': 'CC BY-SA 4.0', 'link': 'https://stackoverflow.com/questions/70173981/using-shutil-move-how-do-i-move-the-file-to-destination-folder-and-keep-the-f', 'title': 'Using shutil.move(), how do i move the file to destination folder and keep the file in the source folder at the same time'}, {'tags': ['python', 'visual-studio-code', 'windows-10', 'modulenotfounderror'], 'owner': {'account_id': 17092580, 'reputation': 301, 'user_id': 12368358, 'user_type': 'registered', 'profile_image': 'https://www.gravatar.com/avatar/905078b8b4765c34783b1d657a8cc810?s=256&d=identicon&r=PG&f=y&so-version=2', 'display_name': 'z.ghane', 'link': 'https://stackoverflow.com/users/12368358/z-ghane'}, 'is_answered': True, 'view_count': 1499, 'accepted_answer_id': 67188904, 'answer_count': 4, 'score': 0, 'last_activity_date': 1752316998, 'creation_date': 1618913412, 'last_edit_date': 1619018216, 'question_id': 67176837, 'content_license': 'CC BY-SA 4.0', 'link': 'https://stackoverflow.com/questions/67176837/can-we-create-a-venv-for-python-and-use-that-venv-in-other-folders-in-vscode-wi', 'title': 'Can we create a venv for python and use that venv in other folders in VSCode, Windows 10?'}, {'tags': ['php', 'arrays', 'codeigniter', 'multidimensional-array', 'query-builder'], 'owner': {'account_id': 3786865, 'reputation': 599, 'user_id': 3144542, 'user_type': 'registered', 'accept_rate': 55, 'profile_image': 'https://www.gravatar.com/avatar/c5498c3096522b82c4fbacb13e2d431d?s=256&d=identicon&r=PG&f=y&so-version=2', 'display_name': 'user3144542', 'link': 'https://stackoverflow.com/users/3144542/user3144542'}, 'is_answered': True, 'view_count': 437, 'closed_date': 1752316981, 'answer_count': 1, 'score': -1, 'last_activity_date': 1752316976, 'creation_date': 1388439707, 'last_edit_date': 1752316976, 'question_id': 20848022, 'link': 'https://stackoverflow.com/questions/20848022/using-where-in-with-a-multi-dimensional-array', 'closed_reason': 'Needs details or clarity', 'title': 'Using where_in() with a multi-dimensional array'}, {'tags': ['swift'], 'owner': {'account_id': 2767219, 'reputation': 305, 'user_id': 2385053, 'user_type': 'registered', 'profile_image': 'https://www.gravatar.com/avatar/67c55d458729b35938fef4d00b63f7d2?s=256&d=identicon&r=PG', 'display_name': 'user49354', 'link': 'https://stackoverflow.com/users/2385053/user49354'}, 'is_answered': True, 'view_count': 3392, 'accepted_answer_id': 39348310, 'answer_count': 5, 'score': 7, 'last_activity_date': 1752316939, 'creation_date': 1473142880, 'last_edit_date': 1473162118, 'question_id': 39341864, 'content_license': 'CC BY-SA 3.0', 'link': 'https://stackoverflow.com/questions/39341864/how-to-pass-variadic-parameter-in-swift', 'title': 'How to pass variadic parameter in swift?'}, {'tags': ['android', 'kotlin', 'android-custom-view'], 'owner': {'account_id': 18398630, 'reputation': 65, 'user_id': 13402326, 'user_type': 'registered', 'profile_image': 'https://lh3.googleusercontent.com/a-/AOh14GhwhIPZISfgvbBhFC-NpFgZdA70vALXy4a3ZPTU=k-s256', 'display_name': 'YOUSEF -ELSAYED', 'link': 'https://stackoverflow.com/users/13402326/yousef-elsayed'}, 'is_answered': False, 'view_count': 1235, 'answer_count': 1, 'score': 2, 'last_activity_date': 1752316875, 'creation_date': 1682318931, 'last_edit_date': 1682362639, 'question_id': 76089224, 'content_license': 'CC BY-SA 4.0', 'link': 'https://stackoverflow.com/questions/76089224/video-editor-timeline-view-android', 'title': 'Video Editor Timeline View android'}, {'tags': ['c#', 'mysql', '.net-core', 'entity-framework-core'], 'owner': {'account_id': 37951322, 'reputation': 71, 'user_id': 28516124, 'user_type': 'registered', 'profile_image': 'https://www.gravatar.com/avatar/011796ff082562d6b7d3df6f27e4e33a?s=256&d=identicon&r=PG&f=y&so-version=2', 'display_name': 'Kafkaa', 'link': 'https://stackoverflow.com/users/28516124/kafkaa'}, 'is_answered': False, 'view_count': 48, 'answer_count': 0, 'score': 1, 'last_activity_date': 1752316847, 'creation_date': 1752263895, 'last_edit_date': 1752316847, 'question_id': 79698780, 'content_license': 'CC BY-SA 4.0', 'link': 'https://stackoverflow.com/questions/79698780/how-to-keep-history-of-entities-using-table-per-type-inheritance-in-ef-core-with', 'title': 'How to keep history of entities using Table-per-Type inheritance in EF Core with Mysql'}]\n"
          ]
        }
      ]
    },
    {
      "cell_type": "code",
      "source": [
        "for questions in result.json()['items']:\n",
        "  print(questions['title'])\n",
        "  print(questions['link'])\n",
        "  print()"
      ],
      "metadata": {
        "colab": {
          "base_uri": "https://localhost:8080/"
        },
        "id": "XKLx4p0wXgn4",
        "outputId": "7a8412c2-0e98-4955-959f-b9f2148c51db"
      },
      "execution_count": 21,
      "outputs": [
        {
          "output_type": "stream",
          "name": "stdout",
          "text": [
            "Checkmarx: Unsafe object binding\n",
            "https://stackoverflow.com/questions/66303835/checkmarx-unsafe-object-binding\n",
            "\n",
            "How do I add multiple pages to my html website in notepad?\n",
            "https://stackoverflow.com/questions/61648863/how-do-i-add-multiple-pages-to-my-html-website-in-notepad\n",
            "\n",
            "Save entity object with foreign key using CrudRepository\n",
            "https://stackoverflow.com/questions/43012174/save-entity-object-with-foreign-key-using-crudrepository\n",
            "\n",
            "Invocation of init method failed; nested exception is java.lang.AbstractMethodError\n",
            "https://stackoverflow.com/questions/34413972/invocation-of-init-method-failed-nested-exception-is-java-lang-abstractmethoder\n",
            "\n",
            "Beginner Trying to Build a Mobile App from Scratch — What Tools, Language, and Frameworks Should I Use in 2025?\n",
            "https://stackoverflow.com/questions/79699216/beginner-trying-to-build-a-mobile-app-from-scratch-what-tools-language-and-f\n",
            "\n",
            "Add Font in Tailwind (Vite Project)\n",
            "https://stackoverflow.com/questions/79699215/add-font-in-tailwind-vite-project\n",
            "\n",
            "NPM install resulting in 401 Unauthorized for private repo\n",
            "https://stackoverflow.com/questions/48823562/npm-install-resulting-in-401-unauthorized-for-private-repo\n",
            "\n",
            "how to ignore a maven goal in eclipse buid?\n",
            "https://stackoverflow.com/questions/79699213/how-to-ignore-a-maven-goal-in-eclipse-buid\n",
            "\n",
            "Creating User Groups in PHP (Using multi-select dropdown)\n",
            "https://stackoverflow.com/questions/22845994/creating-user-groups-in-php-using-multi-select-dropdown\n",
            "\n",
            "What is the best practice for creating a dialog for each card-item without an activator using Vue, Vuex, and Vuetify\n",
            "https://stackoverflow.com/questions/62382010/what-is-the-best-practice-for-creating-a-dialog-for-each-card-item-without-an-ac\n",
            "\n",
            "Text to Duration in Excel Power Query\n",
            "https://stackoverflow.com/questions/79698671/text-to-duration-in-excel-power-query\n",
            "\n",
            "Dynamic list of arguments for a variadic function\n",
            "https://stackoverflow.com/questions/79699195/dynamic-list-of-arguments-for-a-variadic-function\n",
            "\n",
            "Why does this CMake list variable expansion not behave as expected?\n",
            "https://stackoverflow.com/questions/79693529/why-does-this-cmake-list-variable-expansion-not-behave-as-expected\n",
            "\n",
            "No user context present after finishing Oauth2 flow\n",
            "https://stackoverflow.com/questions/79696979/no-user-context-present-after-finishing-oauth2-flow\n",
            "\n",
            "Refactoring minimal web application pattern into classic full Program.cs with main\n",
            "https://stackoverflow.com/questions/79699143/refactoring-minimal-web-application-pattern-into-classic-full-program-cs-with-ma\n",
            "\n",
            "A Regex expression that excludes a phrase\n",
            "https://stackoverflow.com/questions/79699098/a-regex-expression-that-excludes-a-phrase\n",
            "\n",
            "Pytest fixture saved into a pickle\n",
            "https://stackoverflow.com/questions/79698757/pytest-fixture-saved-into-a-pickle\n",
            "\n",
            "How to link the Autocomplete dropdown item to a subsection of same page without displaying full url name\n",
            "https://stackoverflow.com/questions/79699186/how-to-link-the-autocomplete-dropdown-item-to-a-subsection-of-same-page-without\n",
            "\n",
            "How to prevent filtered component from re-rendering over and over?\n",
            "https://stackoverflow.com/questions/79674218/how-to-prevent-filtered-component-from-re-rendering-over-and-over\n",
            "\n",
            "Testing equality of lists which contain NaN\n",
            "https://stackoverflow.com/questions/79699094/testing-equality-of-lists-which-contain-nan\n",
            "\n",
            "Pulling image from private container registry (Harbor) in Kubernetes\n",
            "https://stackoverflow.com/questions/72880842/pulling-image-from-private-container-registry-harbor-in-kubernetes\n",
            "\n",
            "Why not call a fetch function eagerly when it is not even awaited\n",
            "https://stackoverflow.com/questions/79699207/why-not-call-a-fetch-function-eagerly-when-it-is-not-even-awaited\n",
            "\n",
            "AnimatedContent size change animation not working smoothly in Jetpack Compose dialog\n",
            "https://stackoverflow.com/questions/79699206/animatedcontent-size-change-animation-not-working-smoothly-in-jetpack-compose-di\n",
            "\n",
            "How to use Powershell to download and pipe to execution with arguments\n",
            "https://stackoverflow.com/questions/68523062/how-to-use-powershell-to-download-and-pipe-to-execution-with-arguments\n",
            "\n",
            "Using shutil.move(), how do i move the file to destination folder and keep the file in the source folder at the same time\n",
            "https://stackoverflow.com/questions/70173981/using-shutil-move-how-do-i-move-the-file-to-destination-folder-and-keep-the-f\n",
            "\n",
            "Can we create a venv for python and use that venv in other folders in VSCode, Windows 10?\n",
            "https://stackoverflow.com/questions/67176837/can-we-create-a-venv-for-python-and-use-that-venv-in-other-folders-in-vscode-wi\n",
            "\n",
            "Using where_in() with a multi-dimensional array\n",
            "https://stackoverflow.com/questions/20848022/using-where-in-with-a-multi-dimensional-array\n",
            "\n",
            "How to pass variadic parameter in swift?\n",
            "https://stackoverflow.com/questions/39341864/how-to-pass-variadic-parameter-in-swift\n",
            "\n",
            "Video Editor Timeline View android\n",
            "https://stackoverflow.com/questions/76089224/video-editor-timeline-view-android\n",
            "\n",
            "How to keep history of entities using Table-per-Type inheritance in EF Core with Mysql\n",
            "https://stackoverflow.com/questions/79698780/how-to-keep-history-of-entities-using-table-per-type-inheritance-in-ef-core-with\n",
            "\n"
          ]
        }
      ]
    },
    {
      "cell_type": "code",
      "source": [
        "for questions in result.json()['items']:\n",
        "  if questions['answer_count'] ==0:\n",
        "\n",
        "    print(questions['title'])\n",
        "    print(questions['link'])\n",
        "  else:\n",
        "      print(\"skipped\")\n",
        "\n",
        "      print()"
      ],
      "metadata": {
        "colab": {
          "base_uri": "https://localhost:8080/"
        },
        "id": "CQPCze65YHOp",
        "outputId": "d79e11e2-7a59-43b3-923c-7a23b4497b5a"
      },
      "execution_count": 28,
      "outputs": [
        {
          "output_type": "stream",
          "name": "stdout",
          "text": [
            "skipped\n",
            "\n",
            "skipped\n",
            "\n",
            "skipped\n",
            "\n",
            "skipped\n",
            "\n",
            "Beginner Trying to Build a Mobile App from Scratch — What Tools, Language, and Frameworks Should I Use in 2025?\n",
            "https://stackoverflow.com/questions/79699216/beginner-trying-to-build-a-mobile-app-from-scratch-what-tools-language-and-f\n",
            "Add Font in Tailwind (Vite Project)\n",
            "https://stackoverflow.com/questions/79699215/add-font-in-tailwind-vite-project\n",
            "skipped\n",
            "\n",
            "how to ignore a maven goal in eclipse buid?\n",
            "https://stackoverflow.com/questions/79699213/how-to-ignore-a-maven-goal-in-eclipse-buid\n",
            "Creating User Groups in PHP (Using multi-select dropdown)\n",
            "https://stackoverflow.com/questions/22845994/creating-user-groups-in-php-using-multi-select-dropdown\n",
            "skipped\n",
            "\n",
            "skipped\n",
            "\n",
            "Dynamic list of arguments for a variadic function\n",
            "https://stackoverflow.com/questions/79699195/dynamic-list-of-arguments-for-a-variadic-function\n",
            "Why does this CMake list variable expansion not behave as expected?\n",
            "https://stackoverflow.com/questions/79693529/why-does-this-cmake-list-variable-expansion-not-behave-as-expected\n",
            "No user context present after finishing Oauth2 flow\n",
            "https://stackoverflow.com/questions/79696979/no-user-context-present-after-finishing-oauth2-flow\n",
            "Refactoring minimal web application pattern into classic full Program.cs with main\n",
            "https://stackoverflow.com/questions/79699143/refactoring-minimal-web-application-pattern-into-classic-full-program-cs-with-ma\n",
            "skipped\n",
            "\n",
            "skipped\n",
            "\n",
            "How to link the Autocomplete dropdown item to a subsection of same page without displaying full url name\n",
            "https://stackoverflow.com/questions/79699186/how-to-link-the-autocomplete-dropdown-item-to-a-subsection-of-same-page-without\n",
            "skipped\n",
            "\n",
            "skipped\n",
            "\n",
            "skipped\n",
            "\n",
            "Why not call a fetch function eagerly when it is not even awaited\n",
            "https://stackoverflow.com/questions/79699207/why-not-call-a-fetch-function-eagerly-when-it-is-not-even-awaited\n",
            "AnimatedContent size change animation not working smoothly in Jetpack Compose dialog\n",
            "https://stackoverflow.com/questions/79699206/animatedcontent-size-change-animation-not-working-smoothly-in-jetpack-compose-di\n",
            "skipped\n",
            "\n",
            "skipped\n",
            "\n",
            "skipped\n",
            "\n",
            "skipped\n",
            "\n",
            "skipped\n",
            "\n",
            "skipped\n",
            "\n",
            "How to keep history of entities using Table-per-Type inheritance in EF Core with Mysql\n",
            "https://stackoverflow.com/questions/79698780/how-to-keep-history-of-entities-using-table-per-type-inheritance-in-ef-core-with\n"
          ]
        }
      ]
    }
  ]
}